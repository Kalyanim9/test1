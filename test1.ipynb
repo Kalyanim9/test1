{
 "cells": [
  {
   "cell_type": "code",
   "execution_count": null,
   "id": "6df30d1b",
   "metadata": {},
   "outputs": [],
   "source": [
    "pip install azure-ai-openai azure-identity\n"
   ]
  },
  {
   "cell_type": "code",
   "execution_count": null,
   "id": "12289379",
   "metadata": {},
   "outputs": [],
   "source": [
    "from azure.ai.openai import OpenAIClient\n",
    "from azure.identity import DefaultAzureCredential\n",
    "\n",
    "# Initialize the client\n",
    "credential = DefaultAzureCredential()\n",
    "openai_client = OpenAIClient(credential, endpoint=\"https://your-azure-openai-endpoint\")\n",
    "\n",
    "# Set the embedding parameters\n",
    "embedding_response = openai_client.embeddings(\n",
    "    model=\"text-embedding-ada-002\",\n",
    "    input=\"Your input text here\"\n",
    ")\n",
    "\n",
    "# Extract the embeddings\n",
    "embeddings = embedding_response.data\n"
   ]
  }
 ],
 "metadata": {
  "kernelspec": {
   "display_name": "Python 3 (ipykernel)",
   "language": "python",
   "name": "python3"
  },
  "language_info": {
   "codemirror_mode": {
    "name": "ipython",
    "version": 3
   },
   "file_extension": ".py",
   "mimetype": "text/x-python",
   "name": "python",
   "nbconvert_exporter": "python",
   "pygments_lexer": "ipython3",
   "version": "3.11.5"
  }
 },
 "nbformat": 4,
 "nbformat_minor": 5
}
